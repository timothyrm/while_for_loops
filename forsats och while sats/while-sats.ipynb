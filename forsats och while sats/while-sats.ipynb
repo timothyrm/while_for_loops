{
 "metadata": {
  "language_info": {
   "codemirror_mode": {
    "name": "ipython",
    "version": 3
   },
   "file_extension": ".py",
   "mimetype": "text/x-python",
   "name": "python",
   "nbconvert_exporter": "python",
   "pygments_lexer": "ipython3",
   "version": "3.8.3-final"
  },
  "orig_nbformat": 2,
  "kernelspec": {
   "name": "python3",
   "display_name": "Python 3.8.3 64-bit (conda)",
   "metadata": {
    "interpreter": {
     "hash": "fe2dbafc7bd5ad380c3b5774b6ffac6224a3e97f600733360e641e44ed102b43"
    }
   }
  }
 },
 "nbformat": 4,
 "nbformat_minor": 2,
 "cells": [
  {
   "cell_type": "code",
   "execution_count": 36,
   "metadata": {},
   "outputs": [
    {
     "output_type": "stream",
     "name": "stdout",
     "text": [
      "summan är: 5050\n"
     ]
    }
   ],
   "source": [
    "#1\n",
    "s = 0\n",
    "summa = 0 \n",
    "while s < 101:\n",
    "    summa += s\n",
    "    s += 1\n",
    "print(f\"summan är: {summa}\")\n",
    "\n"
   ]
  },
  {
   "cell_type": "code",
   "execution_count": 37,
   "metadata": {},
   "outputs": [
    {
     "output_type": "stream",
     "name": "stdout",
     "text": [
      "summan är: 2600\n"
     ]
    }
   ],
   "source": [
    "s = 1\n",
    "i = 2\n",
    "summa = 0 \n",
    "while s < 100:\n",
    "    s += i \n",
    "    summa += s \n",
    "print(f\"summan är: {summa}\")"
   ]
  },
  {
   "cell_type": "code",
   "execution_count": 62,
   "metadata": {},
   "outputs": [
    {
     "output_type": "stream",
     "name": "stdout",
     "text": [
      "talet var för högt!\n",
      "Det var rätt!!\n",
      "talet är för lågt!\n"
     ]
    }
   ],
   "source": [
    "import random as rnd\n",
    "\n",
    "gissning = int(input(\"Gissa ett tal mellan 1 till 100\"))\n",
    "\n",
    "tal = rnd.randint(0,101)\n",
    "\n",
    "while gissning != tal:\n",
    "    gissning = int(input(\"gissa vilket tal jag tänker på\"))\n",
    "    if gissning == tal:    \n",
    "        print(\"Det var rätt!!\")\n",
    "    if gissning > tal:\n",
    "        print(\"talet var för högt!\")\n",
    "    else:\n",
    "        print(\"talet är för lågt!\")\n",
    "\n",
    "\n",
    "\n",
    "\n"
   ]
  },
  {
   "cell_type": "code",
   "execution_count": null,
   "metadata": {},
   "outputs": [],
   "source": []
  }
 ]
}